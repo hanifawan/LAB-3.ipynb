{
  "nbformat": 4,
  "nbformat_minor": 0,
  "metadata": {
    "colab": {
      "provenance": [],
      "toc_visible": true
    },
    "kernelspec": {
      "name": "python3",
      "display_name": "Python 3"
    },
    "language_info": {
      "name": "python"
    }
  },
  "cells": [
    {
      "cell_type": "markdown",
      "source": [
        "# DICTIONARY\n"
      ],
      "metadata": {
        "id": "6M4mD0WIAfNq"
      }
    },
    {
      "cell_type": "code",
      "source": [
        "from collections import deque\n",
        "\n",
        "pakistan_cities = {\n",
        "    'Lahore': ['Faisalabad'],\n",
        "    'Faisalabad': ['Lahore', 'Sargodha'],\n",
        "    'Sargodha': ['Faisalabad', 'Rawalpindi', 'Multan'],\n",
        "    'Rawalpindi': ['Sargodha', 'Islamabad'],\n",
        "    'Islamabad': ['Rawalpindi', 'Peshawar'],\n",
        "    'Peshawar': ['Islamabad', 'Mardan'],\n",
        "    'Mardan': ['Peshawar', 'Swat'],\n",
        "    'Swat': ['Mardan']\n",
        "}\n",
        "\n",
        "def bfs_shortest_path(graph, start, goal):\n",
        "    queue = deque([[start]])\n",
        "    visited = set()\n",
        "\n",
        "    while queue:\n",
        "        path = queue.popleft()\n",
        "        current_city = path[-1]\n",
        "\n",
        "        if current_city == goal:\n",
        "            return path\n",
        "\n",
        "        if current_city not in visited:\n",
        "            visited.add(current_city)\n",
        "            for neighbor in graph.get(current_city, []):\n",
        "                new_path = list(path)\n",
        "                new_path.append(neighbor)\n",
        "                queue.append(new_path)\n",
        "\n",
        "    return None\n",
        "\n",
        "def dfs_path(graph, start, goal, path=None, visited=None):\n",
        "    if path is None:\n",
        "        path = []\n",
        "    if visited is None:\n",
        "        visited = set()\n",
        "\n",
        "    path.append(start)\n",
        "    visited.add(start)\n",
        "\n",
        "    if start == goal:\n",
        "        return path\n",
        "\n",
        "    for neighbor in graph.get(start, []):\n",
        "        if neighbor not in visited:\n",
        "            result = dfs_path(graph, neighbor, goal, path.copy(), visited.copy())\n",
        "            if result:\n",
        "                return result\n",
        "\n",
        "    return None\n",
        "\n",
        "start_city = \"Lahore\"\n",
        "goal_city = \"Swat\"\n",
        "\n",
        "bfs_result = bfs_shortest_path(pakistan_cities, start_city, goal_city)\n",
        "print(\"BFS Shortest Path from Lahore to Swat:\", bfs_result)\n",
        "\n",
        "dfs_result = dfs_path(pakistan_cities, start_city, goal_city)\n",
        "print(\"DFS Path from Lahore to Swat:\", dfs_result)\n"
      ],
      "metadata": {
        "colab": {
          "base_uri": "https://localhost:8080/"
        },
        "id": "cX9LMsU0KYhF",
        "outputId": "6f593d6f-4c4b-49ef-e47c-11df98da49e1"
      },
      "execution_count": 17,
      "outputs": [
        {
          "output_type": "stream",
          "name": "stdout",
          "text": [
            "BFS Shortest Path from Lahore to Swat: ['Lahore', 'Faisalabad', 'Sargodha', 'Rawalpindi', 'Islamabad', 'Peshawar', 'Mardan', 'Swat']\n",
            "DFS Path from Lahore to Swat: ['Lahore', 'Faisalabad', 'Sargodha', 'Rawalpindi', 'Islamabad', 'Peshawar', 'Mardan', 'Swat']\n"
          ]
        }
      ]
    },
    {
      "cell_type": "markdown",
      "source": [
        "we are creating a list of cities and their connections. Each city (like **Lahore** or **Faisalabad**) is connected to other cities. For example, **Lahore** is connected to **Faisalabad**, and **Faisalabad** is connected to both **Lahore** and **Sargodha**. This is done using a Python **dictionary**, where each city is a **key** and the connected cities are listed as a **value**.\n"
      ],
      "metadata": {
        "id": "MododL2WDHLq"
      }
    }
  ]
}